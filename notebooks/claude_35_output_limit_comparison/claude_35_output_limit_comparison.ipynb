{
 "cells": [
  {
   "cell_type": "markdown",
   "metadata": {},
   "source": [
    "# Claude 3.5 Sonnet Output Length Comparison\n",
    "\n",
    "This notebook demonstrates the difference in output token limits between:\n",
    "- Claude 3.5 Sonnet v1 (4k output tokens)\n",
    "- Claude 3.5 Sonnet v2 (8k output tokens)\n",
    "\n",
    "We'll use Amazon Bedrock to test both models with the same prompt designed to generate a long response."
   ]
  },
  {
   "cell_type": "code",
   "execution_count": 1,
   "metadata": {},
   "outputs": [],
   "source": [
    "import json\n",
    "import boto3\n",
    "import logging\n",
    "from botocore.config import Config\n",
    "import matplotlib.pyplot as plt\n",
    "import pandas as pd\n",
    "\n",
    "# Configure logging\n",
    "logging.basicConfig(level=logging.INFO)\n",
    "logger = logging.getLogger()"
   ]
  },
  {
   "cell_type": "markdown",
   "metadata": {},
   "source": [
    "## Setup Amazon Bedrock Client\n",
    "\n",
    "Configure the Bedrock runtime client with a long timeout to handle lengthy responses."
   ]
  },
  {
   "cell_type": "code",
   "execution_count": 2,
   "metadata": {},
   "outputs": [
    {
     "name": "stderr",
     "output_type": "stream",
     "text": [
      "INFO:botocore.credentials:Found credentials in shared credentials file: ~/.aws/credentials\n"
     ]
    }
   ],
   "source": [
    "# Set up the Bedrock client with extended timeout\n",
    "config = Config(read_timeout=1000)\n",
    "client = boto3.client('bedrock-runtime', config=config)"
   ]
  },
  {
   "cell_type": "markdown",
   "metadata": {},
   "source": [
    "## Define Models for Testing\n",
    "\n",
    "We'll test both versions of Claude 3.5 Sonnet to compare their output length capabilities."
   ]
  },
  {
   "cell_type": "code",
   "execution_count": 3,
   "metadata": {},
   "outputs": [],
   "source": [
    "# Define model IDs for both versions\n",
    "models = {\n",
    "    \"Claude 3.5 Sonnet v1\": \"us.anthropic.claude-3-5-sonnet-20240620-v1:0\",  # 4k output token limit\n",
    "    \"Claude 3.5 Sonnet v2\": \"us.anthropic.claude-3-5-sonnet-20241022-v2:0\"   # 8k output token limit\n",
    "}"
   ]
  },
  {
   "cell_type": "markdown",
   "metadata": {},
   "source": [
    "## Create Test Prompt\n",
    "\n",
    "We'll use a prompt that encourages the model to generate a lengthy response that will likely exceed the token limits."
   ]
  },
  {
   "cell_type": "code",
   "execution_count": 4,
   "metadata": {},
   "outputs": [],
   "source": [
    "# Create a prompt that will generate a long response\n",
    "input_text = \"\"\"While writing unit tests in Jest for TypeScript code, I want to check the values of variables in a function while running the test. How to modify the functions? Give 20 detailed examples, each with a different example function and the corresponding test. Ensure all 20 examples are highly detailed. Provide all examples in one response. If you run out of tokens, it's not a problem. Do not be concerned about length limitations; I need all 20 detailed examples in a single response.\"\"\"\n",
    "\n",
    "# Setup system prompts and messages\n",
    "system_prompts = [{\"text\": \"You are an AI assistant helping with writing unit tests in Jest for TypeScript code.\"}]\n",
    "message = {\n",
    "    \"role\": \"user\",\n",
    "    \"content\": [{\"text\": input_text}]\n",
    "}\n",
    "messages = [message]"
   ]
  },
  {
   "cell_type": "markdown",
   "metadata": {},
   "source": [
    "## Define Function for Making API Calls"
   ]
  },
  {
   "cell_type": "code",
   "execution_count": 5,
   "metadata": {},
   "outputs": [],
   "source": [
    "def generate_conversation(bedrock_client, model_id, system_prompts, messages, max_tokens=None):\n",
    "    \"\"\"Generate a conversation with the specified model and parameters.\"\"\"\n",
    "    logger.info(f\"Generating message with model {model_id}\")\n",
    "    \n",
    "    # Set parameters\n",
    "    temperature = 0.5\n",
    "    top_k = 200\n",
    "    \n",
    "    # If max_tokens is not specified, use the appropriate limit based on the model\n",
    "    if max_tokens is None:\n",
    "        if \"v1\" in model_id:\n",
    "            max_tokens = 4096  # v1 has 4k output token limit\n",
    "        else:\n",
    "            max_tokens = 8192  # v2 has 8k output token limit\n",
    "    \n",
    "    # Configure the API call\n",
    "    inference_config = {\"temperature\": temperature, \"maxTokens\": max_tokens}\n",
    "    additional_model_fields = {\"top_k\": top_k}\n",
    "    \n",
    "    # Make the API call\n",
    "    response = bedrock_client.converse(\n",
    "        modelId=model_id,\n",
    "        messages=messages,\n",
    "        system=system_prompts,\n",
    "        inferenceConfig=inference_config,\n",
    "        additionalModelRequestFields=additional_model_fields\n",
    "    )\n",
    "    \n",
    "    # Log usage information\n",
    "    token_usage = response['usage']\n",
    "    logger.info(f\"Input tokens: {token_usage['inputTokens']}\")\n",
    "    logger.info(f\"Output tokens: {token_usage['outputTokens']}\")\n",
    "    logger.info(f\"Total tokens: {token_usage['totalTokens']}\")\n",
    "    logger.info(f\"Stop reason: {response['stopReason']}\")\n",
    "    \n",
    "    return response"
   ]
  },
  {
   "cell_type": "markdown",
   "metadata": {},
   "source": [
    "## Test Models and Compare Results\n",
    "\n",
    "Let's run the test on both models and capture the results."
   ]
  },
  {
   "cell_type": "code",
   "execution_count": 6,
   "metadata": {},
   "outputs": [
    {
     "name": "stderr",
     "output_type": "stream",
     "text": [
      "INFO:root:Generating message with model us.anthropic.claude-3-5-sonnet-20240620-v1:0\n"
     ]
    },
    {
     "name": "stdout",
     "output_type": "stream",
     "text": [
      "\n",
      "\n",
      "Testing Claude 3.5 Sonnet v1...\n"
     ]
    },
    {
     "name": "stderr",
     "output_type": "stream",
     "text": [
      "INFO:root:Input tokens: 128\n",
      "INFO:root:Output tokens: 4096\n",
      "INFO:root:Total tokens: 4224\n",
      "INFO:root:Stop reason: max_tokens\n",
      "INFO:root:Generating message with model us.anthropic.claude-3-5-sonnet-20241022-v2:0\n"
     ]
    },
    {
     "name": "stdout",
     "output_type": "stream",
     "text": [
      "Input tokens: 128\n",
      "Output tokens: 4096\n",
      "Stop reason: max_tokens\n",
      "\n",
      "\n",
      "Testing Claude 3.5 Sonnet v2...\n"
     ]
    },
    {
     "name": "stderr",
     "output_type": "stream",
     "text": [
      "INFO:root:Input tokens: 128\n",
      "INFO:root:Output tokens: 6270\n",
      "INFO:root:Total tokens: 6398\n",
      "INFO:root:Stop reason: end_turn\n"
     ]
    },
    {
     "name": "stdout",
     "output_type": "stream",
     "text": [
      "Input tokens: 128\n",
      "Output tokens: 6270\n",
      "Stop reason: end_turn\n"
     ]
    }
   ],
   "source": [
    "# Dictionary to store results\n",
    "results = {}\n",
    "\n",
    "# Run test for each model\n",
    "for model_name, model_id in models.items():\n",
    "    print(f\"\\n\\nTesting {model_name}...\")\n",
    "    try:\n",
    "        response = generate_conversation(client, model_id, system_prompts, messages)\n",
    "        \n",
    "        # Store results\n",
    "        results[model_name] = {\n",
    "            \"output_tokens\": response['usage']['outputTokens'],\n",
    "            \"input_tokens\": response['usage']['inputTokens'],\n",
    "            \"stop_reason\": response['stopReason'],\n",
    "            \"response_text\": response['output']['message']['content'][0]['text'][0:500] + \"...\" # Show just first 500 chars\n",
    "        }\n",
    "        \n",
    "        # Display result summary\n",
    "        print(f\"Input tokens: {response['usage']['inputTokens']}\")\n",
    "        print(f\"Output tokens: {response['usage']['outputTokens']}\")\n",
    "        print(f\"Stop reason: {response['stopReason']}\")\n",
    "        \n",
    "    except Exception as e:\n",
    "        print(f\"Error testing {model_name}: {str(e)}\")\n",
    "        results[model_name] = {\"error\": str(e)}"
   ]
  },
  {
   "cell_type": "markdown",
   "metadata": {},
   "source": [
    "## Visualize the Results\n",
    "\n",
    "Now let's create a visual comparison of the output token limits."
   ]
  },
  {
   "cell_type": "code",
   "execution_count": 9,
   "metadata": {},
   "outputs": [
    {
     "data": {
      "image/png": "[encoded data removed]",
      "text/plain": [
       "<Figure size 1000x600 with 1 Axes>"
      ]
     },
     "metadata": {},
     "output_type": "display_data"
    }
   ],
   "source": [
    "# Create a dataframe for visualization\n",
    "df = pd.DataFrame({\n",
    "    'Model': list(results.keys()),\n",
    "    'Output Tokens': [r.get('output_tokens', 0) for r in results.values()],\n",
    "    'Stop Reason': [r.get('stop_reason', 'N/A') for r in results.values()]\n",
    "})\n",
    "\n",
    "# Create the visualization\n",
    "plt.figure(figsize=(10, 6))\n",
    "bars = plt.bar(df['Model'], df['Output Tokens'], color=['skyblue', 'darkblue'])\n",
    "\n",
    "# Add labels and title\n",
    "plt.title('Claude 3.5 Sonnet Output Token Limit Comparison', fontsize=16)\n",
    "plt.xlabel('Model Version', fontsize=14)\n",
    "plt.ylabel('Output Tokens Used', fontsize=14)\n",
    "plt.grid(axis='y', alpha=0.3)\n",
    "\n",
    "# Add token count labels on top of each bar\n",
    "for bar in bars:\n",
    "    height = bar.get_height()\n",
    "    plt.text(bar.get_x() + bar.get_width()/2., height + 100,\n",
    "            f'{int(height)}',\n",
    "            ha='center', va='bottom', fontsize=12)\n",
    "\n",
    "# Add horizontal lines indicating the limits\n",
    "plt.axhline(y=4096, color='red', linestyle='--', alpha=0.7, label='v1 Limit (4k)')\n",
    "plt.axhline(y=8192, color='green', linestyle='--', alpha=0.7, label='v2 Limit (8k)')\n",
    "plt.legend()\n",
    "\n",
    "plt.tight_layout()\n",
    "plt.show()"
   ]
  },
  {
   "cell_type": "markdown",
   "metadata": {},
   "source": [
    "## Detailed Results Table"
   ]
  },
  {
   "cell_type": "code",
   "execution_count": 10,
   "metadata": {},
   "outputs": [
    {
     "data": {
      "text/html": [
       "<div>\n",
       "<style scoped>\n",
       "    .dataframe tbody tr th:only-of-type {\n",
       "        vertical-align: middle;\n",
       "    }\n",
       "\n",
       "    .dataframe tbody tr th {\n",
       "        vertical-align: top;\n",
       "    }\n",
       "\n",
       "    .dataframe thead th {\n",
       "        text-align: right;\n",
       "    }\n",
       "</style>\n",
       "<table border=\"1\" class=\"dataframe\">\n",
       "  <thead>\n",
       "    <tr style=\"text-align: right;\">\n",
       "      <th></th>\n",
       "      <th>Model</th>\n",
       "      <th>Output Tokens</th>\n",
       "      <th>Input Tokens</th>\n",
       "      <th>Stop Reason</th>\n",
       "    </tr>\n",
       "  </thead>\n",
       "  <tbody>\n",
       "    <tr>\n",
       "      <th>0</th>\n",
       "      <td>Claude 3.5 Sonnet v1</td>\n",
       "      <td>4096</td>\n",
       "      <td>128</td>\n",
       "      <td>max_tokens</td>\n",
       "    </tr>\n",
       "    <tr>\n",
       "      <th>1</th>\n",
       "      <td>Claude 3.5 Sonnet v2</td>\n",
       "      <td>6270</td>\n",
       "      <td>128</td>\n",
       "      <td>end_turn</td>\n",
       "    </tr>\n",
       "  </tbody>\n",
       "</table>\n",
       "</div>"
      ],
      "text/plain": [
       "                  Model  Output Tokens  Input Tokens Stop Reason\n",
       "0  Claude 3.5 Sonnet v1           4096           128  max_tokens\n",
       "1  Claude 3.5 Sonnet v2           6270           128    end_turn"
      ]
     },
     "execution_count": 10,
     "metadata": {},
     "output_type": "execute_result"
    }
   ],
   "source": [
    "# Create a detailed table of results\n",
    "detail_df = pd.DataFrame({\n",
    "    'Model': list(results.keys()),\n",
    "    'Output Tokens': [r.get('output_tokens', 0) for r in results.values()],\n",
    "    'Input Tokens': [r.get('input_tokens', 0) for r in results.values()],\n",
    "    'Stop Reason': [r.get('stop_reason', 'N/A') for r in results.values()]\n",
    "})\n",
    "\n",
    "detail_df"
   ]
  },
  {
   "cell_type": "markdown",
   "metadata": {},
   "source": [
    "## Conclusion\n",
    "\n",
    "This experiment clearly demonstrates the difference in output token capacity between Claude 3.5 Sonnet versions:\n",
    "\n",
    "- **Claude 3.5 Sonnet v1** has a 4k (4,096) output token limit\n",
    "- **Claude 3.5 Sonnet v2** has an 8k (8,192) output token limit\n",
    "\n",
    "The v2 model can generate responses that are twice as long as the v1 model, making it more suitable for tasks requiring detailed, lengthy outputs such as code examples, extensive documentation, or comprehensive analyses.\n",
    "\n",
    "We can observe this from:\n",
    "\n",
    "1. The difference in token counts in the responses\n",
    "2. The stop reasons (max_tokens_reached vs. end_turn)\n",
    "3. The completeness of the generated content\n",
    "\n",
    "This increased output limit provides significant advantages for applications that require verbose or comprehensive AI-generated content."
   ]
  }
 ],
 "metadata": {
  "kernelspec": {
   "display_name": "Python 3",
   "language": "python",
   "name": "python3"
  },
  "language_info": {
   "codemirror_mode": {
    "name": "ipython",
    "version": 3
   },
   "file_extension": ".py",
   "mimetype": "text/x-python",
   "name": "python",
   "nbconvert_exporter": "python",
   "pygments_lexer": "ipython3",
   "version": "3.12.6"
  }
 },
 "nbformat": 4,
 "nbformat_minor": 4
}
