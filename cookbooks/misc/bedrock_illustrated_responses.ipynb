{
 "cells": [
  {
   "cell_type": "markdown",
   "id": "ef2370fa",
   "metadata": {},
   "source": [
    "# Illustrated Responses with Claude"
   ]
  },
  {
   "cell_type": "markdown",
   "id": "5b31563b",
   "metadata": {},
   "source": [
    "In this recipe, we'll show how to make an instantiation of Claude that illustrates its responses by calling an image generation tool. We'll do this in three steps:\n",
    "1. Connect to the Stable Diffusion API\n",
    "2. Write a prompt that explains to Claude how and when to call the API\n",
    "3. Ask Claude some questions and see how it answers!"
   ]
  },
  {
   "cell_type": "code",
   "execution_count": null,
   "id": "962f11fe",
   "metadata": {},
   "outputs": [],
   "source": [
    "# Install the necessary libraries\n",
    "%pip install boto3"
   ]
  },
  {
   "cell_type": "code",
   "execution_count": 2,
   "id": "2d74d2e5",
   "metadata": {},
   "outputs": [],
   "source": [
    "import os, re, requests, boto3, json\n",
    "from IPython import display\n",
    "from base64 import b64decode"
   ]
  },
  {
   "cell_type": "code",
   "execution_count": 3,
   "id": "30cb3d6e",
   "metadata": {},
   "outputs": [],
   "source": [
    "STABILITY_API_KEY = \"\" # Stability API key goes here\n",
    "bedrock_rt = boto3.client(\"bedrock-runtime\", region_name=\"us-east-1\")\n",
    "modelId = \"anthropic.claude-3-sonnet-20240229-v1:0\"\n",
    "accept = \"application/json\"\n",
    "contentType = \"application/json\""
   ]
  },
  {
   "cell_type": "code",
   "execution_count": 4,
   "id": "4f9afec4",
   "metadata": {},
   "outputs": [],
   "source": [
    "def gen_image(prompt, height=1024, width=1024, num_samples=1):\n",
    "    engine_id = \"stable-diffusion-v1-6\"\n",
    "    api_host = 'https://api.stability.ai'\n",
    "\n",
    "    response = requests.post(\n",
    "        f\"{api_host}/v1/generation/{engine_id}/text-to-image\",\n",
    "        headers={\n",
    "            \"Content-Type\": \"application/json\",\n",
    "            \"Accept\": \"application/json\",\n",
    "            \"Authorization\": f\"Bearer {STABILITY_API_KEY}\"\n",
    "        },\n",
    "        json={\n",
    "            \"text_prompts\": [\n",
    "                {\n",
    "                    \"text\": prompt,\n",
    "                }\n",
    "            ],\n",
    "            \"cfg_scale\": 7,\n",
    "            \"height\": height,\n",
    "            \"width\": width,\n",
    "            \"samples\": num_samples,\n",
    "            \"steps\": 30,\n",
    "        },\n",
    "    )\n",
    "\n",
    "    if response.status_code != 200:\n",
    "        raise Exception(\"Non-200 response: \" + str(response.text))\n",
    "\n",
    "    data = response.json()\n",
    "    return data['artifacts'][0]['base64']"
   ]
  },
  {
   "cell_type": "code",
   "execution_count": 5,
   "id": "95de4574",
   "metadata": {},
   "outputs": [],
   "source": [
    "def show_image(b64): # Helper function for displaying images in a notebook\n",
    "    return display.Image(b64decode(b64))"
   ]
  },
  {
   "cell_type": "markdown",
   "id": "6ca1e0ff",
   "metadata": {},
   "source": [
    "Now, we'll write the prompt explaining to Claude how and when to call the image generator, along with some advice for writing image prompts that will lead to pretty output."
   ]
  },
  {
   "cell_type": "code",
   "execution_count": 7,
   "id": "04815193",
   "metadata": {},
   "outputs": [],
   "source": [
    "image_gen_system_prompt = (\"You are Claude, a helpful, honest, harmless AI assistant. \"\n",
    "\"One special thing about this conversation is that you have access to an image generation API, \"\n",
    "\"so you may create images for the user if they request you do so, or if you have an idea \"\n",
    "\"for an image that seems especially pertinent or profound. However, it's also totally fine \"\n",
    "\"to just respond to the human normally if that's what seems right! If you do want to generate an image, \"\n",
    "\"write '<function_call>create_image(PROMPT)</function_call>', replacing PROMPT with a description of the image you want to create.\")\n",
    "\n",
    "image_gen_system_prompt += \"\"\"\n",
    "\n",
    "Here is some guidance for getting the best possible images:\n",
    "\n",
    "<image_prompting_advice>\n",
    "Rule 1. Make Your Stable Diffusion Prompts Clear, and Concise\n",
    "Successful AI art generation in Stable Diffusion relies heavily on clear and precise prompts. It's essential to craft problem statements that are both straightforward and focused.\n",
    "\n",
    "Clearly written prompts acts like a guide, pointing the AI towards the intended outcome. Specifically, crafting prompts involves choosing words that eliminate ambiguity and concentrate the AI's attention on producing relevant and striking images.\n",
    "Conciseness in prompt writing is about being brief yet rich in content. This approach not only fits within the technical limits of AI systems but ensures each part of the prompt contributes meaningfully to the final image. Effective prompt creation involves boiling down complex ideas into their essence.\n",
    "Prompt Example:\n",
    "\"Minimalist landscape, vast desert under a twilight sky.\"\n",
    "This prompt exemplifies how a few well-chosen words can paint a vivid picture. The terms 'minimalist' and 'twilight sky' work together to set a specific mood and scene, demonstrating effective prompts creation with brevity.\n",
    "\n",
    "Another Example:\n",
    "\"Futuristic cityscape, neon lights, and towering skyscrapers.\"\n",
    "Here, the use of descriptive but concise language creates a detailed setting without overwhelming the AI. This example showcases the importance of balancing detail with succinctness in prompt structuring methods.\n",
    "\n",
    "Rule 2. Use Detailed Subjects and Scenes to Make Your Stable Diffusion Prompts More Specific\n",
    "Moving into detailed subject and scene description, the focus is on precision. Here, the use of text weights in prompts becomes important, allowing for emphasis on certain elements within the scene.\n",
    "\n",
    "Detailing in a prompt should always serve a clear purpose, such as setting a mood, highlighting an aspect, or defining the setting. The difference between a vague and a detailed prompt can be stark, often leading to a much more impactful AI-generated image. Learning how to add layers of details without overwhelming the AI is crucial.\n",
    "Scene setting is more than just describing physical attributes; it encompasses emotions and atmosphere as well. The aim is to provide prompts that are rich in context and imagery, resulting in more expressive AI art.\n",
    "Prompt Example:\n",
    "\"Quiet seaside at dawn, gentle waves, seagulls in the distance.\"\n",
    "In this prompt, each element adds a layer of detail, painting a serene picture. The words 'quiet', 'dawn', and 'gentle waves' work cohesively to create an immersive scene, showcasing the power of specific prompts crafting.\n",
    "\n",
    "Another Example:\n",
    "\"Ancient forest, moss-covered trees, dappled sunlight filtering through leaves.\"\n",
    "This prompt is rich in imagery and detail, guiding the AI to generate an image with depth and character. It illustrates how detailed prompts can lead to more nuanced and aesthetically pleasing results.\n",
    "\n",
    "Rule 3. Contextualizing Your Prompts: Providing Rich Detail Without Confusion\n",
    "In the intricate world of stable diffusion, the ability to contextualize prompts effectively sets apart the ordinary from the extraordinary. This part of the stable diffusion guide delves into the nuanced approach of incorporating rich details into prompts without leading to confusion, a pivotal aspect of the prompt engineering process.\n",
    "\n",
    "Contextualizing prompts is akin to painting a picture with words. Each detail added layers depth and texture, making AI-generated images more lifelike and resonant. The art of specific prompts crafting lies in weaving details that are vivid yet coherent.\n",
    "For example, when describing a scene, instead of merely stating: \n",
    "\"a forest.\"\n",
    "one might say,\n",
    "\n",
    "\"a sunlit forest with towering pines and a carpet of fallen autumn leaves.\"\n",
    "Other Prompt Examples:\n",
    "\"Starry night, silhouette of mountains against a galaxy-filled sky.\"\n",
    "This prompt offers a clear image while allowing room for the AI’s interpretation, a key aspect of prompt optimization. The mention of 'starry night' and 'galaxy-filled sky' gives just enough context without dictating every aspect of the scene.\n",
    "\n",
    "Rule 4. Do Not Overload Your Prompt Details\n",
    "While detail is desirable, overloading prompts with excessive information can lead to ambiguous results. This section of the definitive prompt guide focuses on how to strike the perfect balance.\n",
    "\n",
    "Descriptive Yet Compact: The challenge lies in being descriptive enough to guide the AI accurately, yet compact enough to avoid overwhelming it. For instance, a prompt like, 'A serene lake, reflecting the fiery hues of sunset, bordered by shadowy hills' paints a vivid picture without unnecessary verbosity.\n",
    "Precision in language is key in this segment of the stable diffusion styles. It's about choosing the right words that convey the most with the least, a skill that is essential in prompt optimization.\n",
    "For example, instead of using:\n",
    "\"a light wind that can barely be felt but heard\"\n",
    "You can make it shorter:\n",
    "\n",
    "whispering breeze\n",
    "More Prompt Examples:\n",
    "Sample prompt: \"Bustling marketplace at sunset, vibrant stalls, lively crowds.\"\n",
    "\n",
    "By using descriptive yet straightforward language, this prompt sets a vivid scene of a marketplace without overcomplicating it. It's an example of how well-structured prompts can lead to dynamic and engaging AI art.\n",
    "</image_prompting_advice>\n",
    "\n",
    "If you decide to make a function call:\n",
    "- the call syntax will not be displayed to the user, but the image you create will be.\n",
    "- please place the call after your text response (if any).\"\"\""
   ]
  },
  {
   "cell_type": "markdown",
   "id": "99adc00c",
   "metadata": {},
   "source": [
    "Notice that this prompt asks Claude to draw the image AFTER responding to the user. This way it's guaranteed to be relevant to the answer."
   ]
  },
  {
   "cell_type": "markdown",
   "id": "c29dca1e",
   "metadata": {},
   "source": [
    "Now, we'll create a helper function that takes Claude's responses when queried with this system prompt, extracts the image prompt, and creates an image."
   ]
  },
  {
   "cell_type": "code",
   "execution_count": 8,
   "id": "8523d141",
   "metadata": {},
   "outputs": [],
   "source": [
    "def parse_response_and_gen_image(claude_response):\n",
    "    if \"<function_call>\" in claude_response:\n",
    "        image_prompt = claude_response.split('<function_call>create_image(')[1].split(')</function_call>')[0].replace('\"', '')\n",
    "        base64 = gen_image(image_prompt)\n",
    "    else:\n",
    "        image_prompt, base64 = None, None\n",
    "\n",
    "    function_free_claude_response = re.sub(r'<function_call>.*</function_call>', '', claude_response)\n",
    "    # return the image_prompt too\n",
    "    return (function_free_claude_response, image_prompt, base64)"
   ]
  },
  {
   "cell_type": "markdown",
   "id": "8201c717",
   "metadata": {},
   "source": [
    "Finally, let's put it all together."
   ]
  },
  {
   "cell_type": "code",
   "execution_count": 9,
   "id": "ca3716a9",
   "metadata": {},
   "outputs": [],
   "source": [
    "def illustrator_claude(prompt):\n",
    "    prompt_config = {\n",
    "        \"anthropic_version\": \"bedrock-2023-05-31\",\n",
    "        \"system\": image_gen_system_prompt,    \n",
    "        \"max_tokens\": 1024,\n",
    "        \"messages\": [\n",
    "            {\n",
    "                \"role\": \"user\",\n",
    "                \"content\": [\n",
    "                    {\"type\": \"text\", \"text\": prompt}\n",
    "                ]\n",
    "            }\n",
    "        ]\n",
    "    }\n",
    "    body = json.dumps(prompt_config)\n",
    "    response = bedrock_rt.invoke_model(\n",
    "        body=body, modelId=modelId, accept=accept, contentType=contentType\n",
    "    )\n",
    "    response_body = json.loads(response.get(\"body\").read())\n",
    "    results = response_body.get(\"content\")[0].get(\"text\")\n",
    "    return parse_response_and_gen_image(results)"
   ]
  },
  {
   "cell_type": "markdown",
   "id": "39e54eb9",
   "metadata": {},
   "source": [
    "Now we can call this function on a few different prompts and witness the results!"
   ]
  },
  {
   "cell_type": "code",
   "execution_count": 10,
   "id": "c068df1a",
   "metadata": {},
   "outputs": [],
   "source": [
    "function_free_response_dino, image_prompt_dino, b64_dino = illustrator_claude(\n",
    "    \"When & how did the Cretaceous period end?\")"
   ]
  },
  {
   "cell_type": "code",
   "execution_count": 11,
   "id": "2a0672d7",
   "metadata": {},
   "outputs": [
    {
     "name": "stdout",
     "output_type": "stream",
     "text": [
      "The Cretaceous period, which began around 145 million years ago, came to an abrupt end approximately 66 million years ago. The end of the Cretaceous period also marked the end of the Mesozoic Era and the extinction of the dinosaurs (except for birds).\n",
      "\n",
      "The Cretaceous period is thought to have ended due to a massive asteroid impact. The most widely accepted theory suggests that an asteroid about 6 miles (10 kilometers) wide struck the Earth in what is now the Yucatan Peninsula in Mexico. The impact site is known as the Chicxulub crater.\n",
      "\n",
      "The asteroid impact would have caused widespread devastation, including:\n",
      "\n",
      "1. Global wildfires due to the heat of the impact.\n",
      "2. Tsunamis in coastal regions due to the impact's shockwaves.\n",
      "3. Prolonged darkness and cooling as dust and soot blocked sunlight.\n",
      "4. Disruption of photosynthesis, leading to a collapse of food chains.\n",
      "5. Acid rain as vaporized rock and seawater mixed in the atmosphere.\n",
      "\n",
      "These catastrophic events led to the mass extinction of around 75% of all plant and animal species on Earth, including most dinosaurs. The impact theory is supported by the presence of a high concentration of iridium (an element rare on Earth but abundant in asteroids) in the geologic layer marking the end of the Cretaceous.\n",
      "\n",
      "\n"
     ]
    }
   ],
   "source": [
    "print(function_free_response_dino)"
   ]
  },
  {
   "cell_type": "code",
   "execution_count": null,
   "id": "3c06dc04",
   "metadata": {},
   "outputs": [],
   "source": [
    "show_image(b64_dino)"
   ]
  },
  {
   "cell_type": "code",
   "execution_count": 22,
   "id": "0eacc1b2",
   "metadata": {},
   "outputs": [
    {
     "name": "stdout",
     "output_type": "stream",
     "text": [
      "An artistic rendering of the massive asteroid impact that caused the Cretaceous–Paleogene extinction event, with a fiery asteroid streaking across the sky above a landscape of dinosaurs\n"
     ]
    }
   ],
   "source": [
    "print(image_prompt_dino)"
   ]
  },
  {
   "cell_type": "code",
   "execution_count": 14,
   "id": "c6027d49",
   "metadata": {},
   "outputs": [],
   "source": [
    "function_free_response_potato, image_prompt_potato, b64_potato = illustrator_claude(\n",
    "    \"What should I make for dinner? I have a bunch of potatoes and eggplant lying around. Gimme your best dish!\")"
   ]
  },
  {
   "cell_type": "code",
   "execution_count": 15,
   "id": "3c3e7448",
   "metadata": {},
   "outputs": [
    {
     "name": "stdout",
     "output_type": "stream",
     "text": [
      "Here's a delicious and easy dinner idea using potatoes and eggplant:\n",
      "\n",
      "Roasted Eggplant and Potato Curry\n",
      "\n",
      "Ingredients:\n",
      "- 2 medium eggplants, cubed\n",
      "- 2 large potatoes, cubed\n",
      "- 1 onion, chopped\n",
      "- 2 cloves garlic, minced\n",
      "- 1 tbsp ginger, grated\n",
      "- 1 can diced tomatoes\n",
      "- 1 can coconut milk\n",
      "- 2 tbsp curry powder\n",
      "- 1 tsp cumin\n",
      "- Salt and pepper to taste\n",
      "- Fresh cilantro for garnish\n",
      "\n",
      "Instructions:\n",
      "1. Preheat oven to 425°F (220°C). Toss cubed eggplant and potatoes with olive oil, salt, and pepper. Spread on a baking sheet and roast for 25-30 minutes until tender and lightly browned. \n",
      "2. In a large pot, sauté onion, garlic, and ginger until fragrant. Add curry powder and cumin, stirring for 1 minute.\n",
      "3. Pour in diced tomatoes and coconut milk. Bring to a simmer.\n",
      "4. Add roasted eggplant and potatoes to the pot. Simmer for 10 minutes to allow flavors to meld. Season with salt and pepper.\n",
      "5. Serve over rice and garnish with fresh cilantro. Enjoy your comforting and flavorful eggplant-potato curry!\n",
      "\n",
      "\n",
      "\n",
      "This hearty vegetarian curry is a great way to use your eggplant and potatoes. Roasting them first adds depth of flavor. The coconut milk makes it creamy and the spices give it a lovely aroma. It's healthy, filling and packed with plant-based goodness. Let me know if you try the recipe!\n"
     ]
    }
   ],
   "source": [
    "print(function_free_response_potato)"
   ]
  },
  {
   "cell_type": "code",
   "execution_count": null,
   "id": "5ae6c999",
   "metadata": {},
   "outputs": [],
   "source": [
    "show_image(b64_potato)"
   ]
  },
  {
   "cell_type": "code",
   "execution_count": 25,
   "id": "ed94168a",
   "metadata": {},
   "outputs": [
    {
     "name": "stdout",
     "output_type": "stream",
     "text": [
      "Roasted eggplant and potato curry in a bowl, garnished with cilantro. Vibrant colors, appetizing steam, served with rice.\n"
     ]
    }
   ],
   "source": [
    "print(image_prompt_potato)"
   ]
  },
  {
   "cell_type": "code",
   "execution_count": 18,
   "id": "a1ce42e7",
   "metadata": {},
   "outputs": [],
   "source": [
    "function_free_response_einstein, image_prompt_einstein, b64_einstein = illustrator_claude(\n",
    "    \"What would Albert Einstein look like if he were a 90s kid?\")"
   ]
  },
  {
   "cell_type": "code",
   "execution_count": 26,
   "id": "7ef53d1b",
   "metadata": {},
   "outputs": [
    {
     "name": "stdout",
     "output_type": "stream",
     "text": [
      "That's an amusing thought! I imagine a 90s version of Albert Einstein might look something like this:\n",
      "\n",
      "\n",
      "\n",
      "Of course, it's hard to picture Einstein as anything other than the iconic genius we know from history, with his wild white hair and thoughtful expression. But it's fun to imagine him transported to a different era, perhaps listening to grunge music, playing video games, and solving Rubik's cubes in record time. \n",
      "\n",
      "I think even in the 90s, Einstein's incredible intellect and curiosity would shine through. He'd probably still be pondering the mysteries of the universe, just with a bit more neon flair in his wardrobe. It goes to show that brilliance transcends any particular time period or fashion trend. Einstein's legacy as one of history's greatest minds endures, no matter how we might imagine him.\n"
     ]
    }
   ],
   "source": [
    "print(function_free_response_einstein)"
   ]
  },
  {
   "cell_type": "code",
   "execution_count": null,
   "id": "56c40ce1",
   "metadata": {},
   "outputs": [],
   "source": [
    "show_image(b64_einstein)"
   ]
  },
  {
   "cell_type": "code",
   "execution_count": 28,
   "id": "3a5c5f7f",
   "metadata": {},
   "outputs": [
    {
     "name": "stdout",
     "output_type": "stream",
     "text": [
      "A digitally rendered portrait of Albert Einstein as a 90s kid, with a colorful windbreaker jacket, baggy jeans, and spiky gelled hair. He has a playful smile and is holding a Rubik's cube.\n"
     ]
    }
   ],
   "source": [
    "print(image_prompt_einstein)"
   ]
  }
 ],
 "metadata": {
  "kernelspec": {
   "display_name": "Python 3 (ipykernel)",
   "language": "python",
   "name": "python3"
  },
  "language_info": {
   "codemirror_mode": {
    "name": "ipython",
    "version": 3
   },
   "file_extension": ".py",
   "mimetype": "text/x-python",
   "name": "python",
   "nbconvert_exporter": "python",
   "pygments_lexer": "ipython3",
   "version": "3.11.6"
  }
 },
 "nbformat": 4,
 "nbformat_minor": 5
}
